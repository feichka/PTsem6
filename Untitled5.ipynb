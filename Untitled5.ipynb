{
 "cells": [
  {
   "cell_type": "code",
   "execution_count": 1,
   "id": "c8ca9a92",
   "metadata": {},
   "outputs": [],
   "source": [
    "import pandas as pd\n",
    "import numpy as np\n",
    "import scipy.stats as stats"
   ]
  },
  {
   "cell_type": "code",
   "execution_count": null,
   "id": "7e4d0127",
   "metadata": {},
   "outputs": [],
   "source": [
    "Задача 1. Известно, что генеральная совокупность распределена нормально\n",
    "со средним квадратическим отклонением, равным 16.\n",
    "Найти доверительный интервал для оценки математического ожидания a с надежностью\n",
    "0.95, если выборочная средняя M = 80, а объем выборки n = 256.\n"
   ]
  },
  {
   "cell_type": "code",
   "execution_count": 123,
   "id": "866cd852",
   "metadata": {},
   "outputs": [
    {
     "data": {
      "text/plain": [
       "(78.04003601545995, 81.95996398454005)"
      ]
     },
     "execution_count": 123,
     "metadata": {},
     "output_type": "execute_result"
    }
   ],
   "source": [
    "M = 80\n",
    "n = 256\n",
    "sdt = 16\n",
    "p = 0.95\n",
    "a = 0.05\n",
    "t = stats.norm.ppf(a/2)\n",
    "x1 = M + t*(sdt/np.sqrt(n))\n",
    "x2 = M - t*(sdt/np.sqrt(n))\n",
    "x1, x2\n"
   ]
  },
  {
   "cell_type": "code",
   "execution_count": null,
   "id": "7d1d77bf",
   "metadata": {},
   "outputs": [],
   "source": [
    "Ответ: доверительный интервал для оценки математического ожидания a с надежностью 0.95 составляет (78.04003601545995, 81.95996398454005)"
   ]
  },
  {
   "cell_type": "code",
   "execution_count": 13,
   "id": "2f12e226",
   "metadata": {},
   "outputs": [],
   "source": [
    "Задача 2. В результате 10 независимых измерений некоторой величины X, выполненных с\n",
    "одинаковой точностью,получены опытные данные:\n",
    "6.9, 6.1, 6.2, 6.8, 7.5, 6.3, 6.4, 6.9, 6.7, 6.1\n",
    "Предполагая, что результаты измерений подчинены нормальному закону распределения\n",
    "вероятностей, оценить истинное значение величины X при помощи доверительного интервала,\n",
    "покрывающего это значение с доверительной вероятностью 0,95.\n"
   ]
  },
  {
   "cell_type": "code",
   "execution_count": 127,
   "id": "5517e6fa",
   "metadata": {},
   "outputs": [
    {
     "data": {
      "text/plain": [
       "(6.267515851415713, 6.912484148584288)"
      ]
     },
     "execution_count": 127,
     "metadata": {},
     "output_type": "execute_result"
    }
   ],
   "source": [
    "x = [6.9, 6.1, 6.2, 6.8, 7.5, 6.3, 6.4, 6.9, 6.7, 6.1]\n",
    "n = 10\n",
    "p = 0.95\n",
    "a = 1-p\n",
    "m = np.mean(x)\n",
    "t = stats.t.ppf(a/2, df = 9)\n",
    "std = np.std(x, ddof = 1)\n",
    "se = std/np.sqrt(n)\n",
    "x1 = m + t*se\n",
    "x2 = m - t*se\n",
    "\n",
    "x1, x2"
   ]
  },
  {
   "cell_type": "code",
   "execution_count": null,
   "id": "cc3bc38e",
   "metadata": {},
   "outputs": [],
   "source": [
    "Ответ: Истинное значение величины X с доверительной вероятностью 0,95 (6.267515851415713, 6.912484148584288)"
   ]
  },
  {
   "cell_type": "code",
   "execution_count": null,
   "id": "3c4c56ba",
   "metadata": {},
   "outputs": [],
   "source": [
    "Задача 3. Рост дочерей 175, 167, 154, 174, 178, 148, 160, 167, 169, 170\n",
    "Рост матерей 178, 165, 165, 173, 168, 155, 160, 164, 178, 175\n",
    "\n",
    "Используя эти данные построить 95% доверительный интервал для разности среднего роста родителей и детей.\n"
   ]
  },
  {
   "cell_type": "code",
   "execution_count": 88,
   "id": "45b434a4",
   "metadata": {},
   "outputs": [
    {
     "data": {
      "text/plain": [
       "(10, 10)"
      ]
     },
     "execution_count": 88,
     "metadata": {},
     "output_type": "execute_result"
    }
   ],
   "source": [
    "x = [175, 167, 154, 174, 178, 148, 160, 167, 169, 170]\n",
    "y = [178, 165, 165, 173, 168, 155, 160, 164, 178, 175]\n",
    "n_x = len(x)\n",
    "n_y = len(y)\n",
    "n_x, n_y"
   ]
  },
  {
   "cell_type": "code",
   "execution_count": 112,
   "id": "1a7f1450",
   "metadata": {},
   "outputs": [
    {
     "data": {
      "text/plain": [
       "(166.2, 168.1)"
      ]
     },
     "execution_count": 112,
     "metadata": {},
     "output_type": "execute_result"
    }
   ],
   "source": [
    "m_x = np.mean(x)\n",
    "m_y = np.mean(y)\n",
    "m_x, m_y"
   ]
  },
  {
   "cell_type": "code",
   "execution_count": 119,
   "id": "fd834edc",
   "metadata": {},
   "outputs": [
    {
     "data": {
      "text/plain": [
       "(91.06666666666666, 60.10000000000001)"
      ]
     },
     "execution_count": 119,
     "metadata": {},
     "output_type": "execute_result"
    }
   ],
   "source": [
    "d1 = np.var(x, ddof = 1)\n",
    "d2 = np.var(y, ddof = 1)\n",
    "d1, d2"
   ]
  },
  {
   "cell_type": "code",
   "execution_count": 117,
   "id": "126d6674",
   "metadata": {},
   "outputs": [
    {
     "data": {
      "text/plain": [
       "1.9000000000000057"
      ]
     },
     "execution_count": 117,
     "metadata": {},
     "output_type": "execute_result"
    }
   ],
   "source": [
    "delta = m_y - m_x\n",
    "delta"
   ]
  },
  {
   "cell_type": "code",
   "execution_count": 107,
   "id": "9a59a3e6",
   "metadata": {},
   "outputs": [
    {
     "data": {
      "text/plain": [
       "75.58333333333334"
      ]
     },
     "execution_count": 107,
     "metadata": {},
     "output_type": "execute_result"
    }
   ],
   "source": [
    "d = (d1+d2)/2\n",
    "d"
   ]
  },
  {
   "cell_type": "code",
   "execution_count": 113,
   "id": "bcc296a0",
   "metadata": {},
   "outputs": [
    {
     "data": {
      "text/plain": [
       "3.8880157750022915"
      ]
     },
     "execution_count": 113,
     "metadata": {},
     "output_type": "execute_result"
    }
   ],
   "source": [
    "se = np.sqrt(d/n_x + d/n_y)\n",
    "se"
   ]
  },
  {
   "cell_type": "code",
   "execution_count": 120,
   "id": "e4383bc1",
   "metadata": {},
   "outputs": [
    {
     "data": {
      "text/plain": [
       "-2.10092204024096"
      ]
     },
     "execution_count": 120,
     "metadata": {},
     "output_type": "execute_result"
    }
   ],
   "source": [
    "a = 0.05\n",
    "t = stats.t.ppf(a/2, df = 18)\n",
    "t"
   ]
  },
  {
   "cell_type": "code",
   "execution_count": 122,
   "id": "3781b868",
   "metadata": {},
   "outputs": [
    {
     "data": {
      "text/plain": [
       "(-6.268418034506846, 10.068418034506857)"
      ]
     },
     "execution_count": 122,
     "metadata": {},
     "output_type": "execute_result"
    }
   ],
   "source": [
    "x1 = delta + t * se\n",
    "x2 = delta - t * se\n",
    "x1, x2"
   ]
  },
  {
   "cell_type": "code",
   "execution_count": null,
   "id": "6e295d8f",
   "metadata": {},
   "outputs": [],
   "source": [
    "Ответ: 95% доверительный интервал для разности среднего роста родителей и детей составляет (-6.268418034506846, 10.068418034506857)"
   ]
  }
 ],
 "metadata": {
  "kernelspec": {
   "display_name": "Python 3 (ipykernel)",
   "language": "python",
   "name": "python3"
  },
  "language_info": {
   "codemirror_mode": {
    "name": "ipython",
    "version": 3
   },
   "file_extension": ".py",
   "mimetype": "text/x-python",
   "name": "python",
   "nbconvert_exporter": "python",
   "pygments_lexer": "ipython3",
   "version": "3.9.13"
  }
 },
 "nbformat": 4,
 "nbformat_minor": 5
}
